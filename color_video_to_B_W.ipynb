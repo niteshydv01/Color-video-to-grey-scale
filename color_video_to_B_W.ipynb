{
  "nbformat": 4,
  "nbformat_minor": 0,
  "metadata": {
    "colab": {
      "provenance": [],
      "include_colab_link": true
    },
    "kernelspec": {
      "name": "python3",
      "display_name": "Python 3"
    },
    "language_info": {
      "name": "python"
    }
  },
  "cells": [
    {
      "cell_type": "markdown",
      "metadata": {
        "id": "view-in-github",
        "colab_type": "text"
      },
      "source": [
        "<a href=\"https://colab.research.google.com/github/niteshydv01/Color-video-to-grey-scale/blob/main/color_video_to_B_W.ipynb\" target=\"_parent\"><img src=\"https://colab.research.google.com/assets/colab-badge.svg\" alt=\"Open In Colab\"/></a>"
      ]
    },
    {
      "cell_type": "code",
      "source": [
        "import cv2\n",
        "import os"
      ],
      "metadata": {
        "id": "yJnxX7boK-5J"
      },
      "execution_count": 1,
      "outputs": []
    },
    {
      "cell_type": "code",
      "source": [
        "vid = cv2.VideoCapture('/content/vid1.mp4')"
      ],
      "metadata": {
        "id": "SEVnIqRBK32Z"
      },
      "execution_count": 2,
      "outputs": []
    },
    {
      "cell_type": "code",
      "source": [
        "video_filename = os.path.basename('/content/vid1.mp4')\n",
        "video_name, video_ext = os.path.splitext(video_filename)\n",
        "output_filename = video_name +'_greyscale' + video_ext\n",
        "output_path = os.path.join('/content',output_filename)"
      ],
      "metadata": {
        "id": "qAn10kFcLHRv"
      },
      "execution_count": 3,
      "outputs": []
    },
    {
      "cell_type": "code",
      "source": [
        "codec = cv2.VideoWriter_fourcc(*'MP4V')\n",
        "fps = vid.get(cv2.CAP_PROP_FPS)\n",
        "frame_width = int(vid.get(cv2.CAP_PROP_FRAME_WIDTH))\n",
        "frame_height = int(vid.get(cv2.CAP_PROP_FRAME_HEIGHT))\n",
        "output_video = cv2.VideoWriter(output_path, codec, fps, (frame_width, frame_height), isColor=False)\n"
      ],
      "metadata": {
        "id": "ocKKu5URMtq2"
      },
      "execution_count": 4,
      "outputs": []
    },
    {
      "cell_type": "code",
      "source": [
        "while vid.isOpened():\n",
        "    ret, frame = vid.read()\n",
        "\n",
        "    if not ret:\n",
        "        break\n",
        "\n",
        "    gray_frame = cv2.cvtColor(frame, cv2.COLOR_BGR2GRAY)\n",
        "    output_video.write(gray_frame)\n"
      ],
      "metadata": {
        "id": "8A83ukXsNP9u"
      },
      "execution_count": 5,
      "outputs": []
    },
    {
      "cell_type": "code",
      "source": [
        "vid.release()\n",
        "output_video.release()\n"
      ],
      "metadata": {
        "id": "jZHg7nfjNcvm"
      },
      "execution_count": 6,
      "outputs": []
    }
  ]
}